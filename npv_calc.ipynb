{
 "cells": [
  {
   "cell_type": "code",
   "execution_count": 8,
   "id": "3f9baa78",
   "metadata": {},
   "outputs": [],
   "source": [
    "import pandas as pd\n",
    "import numpy as np\n",
    "import seaborn as sns"
   ]
  },
  {
   "cell_type": "code",
   "execution_count": 9,
   "id": "247a6758",
   "metadata": {},
   "outputs": [],
   "source": [
    "\"\"\"\n",
    "adjusted rating for A\n",
    "adjusted rating for BBB\n",
    "...\n",
    "\n",
    "D : 금융투자업규정 제8-19조의9제3항제2호에 따라 원리금의 적기상환이 이루어지지 않거나 기업회생절차, 파산절차의 개시가 있는 경우에 부여하는 신용등급\n",
    "WR(Withdrawal) : 연초에 신용등급이 존재하였으나 상환, 피흡수합병 등으로 등급이 소멸된 경우를 표시\n",
    "\n",
    "\"\"\"\n",
    "\n",
    "kis_2024_ctm = [\n",
    "        [96.80,0.37,0,0,0,0,0,2.83],\n",
    "        [1.49,76.37,3.71,.20,.05,.05,0,18.13],\n",
    "        [.05,10.48,57.9,3.69,.32,.73,.27,26.56],\n",
    "        [0,.16,13.56,34.92,2.22,2.38,1.81,44.95],\n",
    "        [0,0,.98,5.46,17.93,2.38,9.94,63.31],\n",
    "        [0,.20,.40,1.00,1.99,15.34,12.95,68.13],\n",
    "    ]\n",
    "\n",
    "states = ['AAA','AA','A','BBB','BB','B','D','WR']\n",
    "index = ['AAA','AA','A','BBB','BB','B']\n",
    "kis_2024_ctm = pd.DataFrame(kis_2024_ctm, columns=states,index=index)/100"
   ]
  },
  {
   "cell_type": "code",
   "execution_count": 10,
   "id": "d0e31b18",
   "metadata": {},
   "outputs": [],
   "source": [
    "wradj_kis_2024_ctm = np.zeros([kis_2024_ctm.shape[0],kis_2024_ctm.shape[1]])"
   ]
  },
  {
   "cell_type": "code",
   "execution_count": 11,
   "id": "51472477",
   "metadata": {},
   "outputs": [],
   "source": [
    "wradj_kis_2024_ctm = pd.DataFrame(wradj_kis_2024_ctm, columns=states,index=index).drop('WR', axis=1,inplace=False)"
   ]
  },
  {
   "cell_type": "markdown",
   "id": "a341b731",
   "metadata": {},
   "source": [
    "# redistribute probabilities of WR state"
   ]
  },
  {
   "cell_type": "code",
   "execution_count": 12,
   "id": "5978335f",
   "metadata": {},
   "outputs": [],
   "source": [
    "for state in states:\n",
    "    if state == 'D' or state == 'WR':\n",
    "        break\n",
    "    \n",
    "    # unity minus withdrawal\n",
    "    unity_min_wr = 1 - kis_2024_ctm.loc[state,'WR']\n",
    "    \n",
    "    for nxt_state in states:\n",
    "        if nxt_state == 'WR':\n",
    "            break\n",
    "        adj_prob = kis_2024_ctm.loc[state,nxt_state] +\\\n",
    "            kis_2024_ctm.loc[state,'WR'] * kis_2024_ctm.loc[state,nxt_state] / unity_min_wr\n",
    "        \n",
    "        wradj_kis_2024_ctm.loc[state,nxt_state] = adj_prob\n",
    "    \"\"\"\n",
    "    aaa/aaa + aaa/wr * aaa/aaa / unity minus withdrawal\n",
    "    \"\"\"\n",
    "    "
   ]
  },
  {
   "cell_type": "code",
   "execution_count": 13,
   "id": "a2f7e20b",
   "metadata": {},
   "outputs": [],
   "source": [
    "wradj_kis_2024_ctm = round(wradj_kis_2024_ctm,4)"
   ]
  },
  {
   "cell_type": "code",
   "execution_count": 14,
   "id": "ef6ce4ea",
   "metadata": {},
   "outputs": [],
   "source": [
    "# manual adjustment\n",
    "wradj_kis_2024_ctm.loc['AA','AA'] = .9329\n",
    "wradj_kis_2024_ctm.loc['BBB','BBB'] = .6344\n",
    "wradj_kis_2024_ctm.loc['B','B'] = .4810\n",
    "\n",
    "# add row\n",
    "wradj_kis_2024_ctm.loc[len(wradj_kis_2024_ctm)] = [0,0,0,0,0,0,1]\n",
    "wradj_kis_2024_ctm.index = ['AAA','AA','A','BBB','BB','B','D']\n",
    "wradj_kis_2024_ctm.to_csv('wradj_kis_2024_ctm.csv', index=True, header=True)"
   ]
  },
  {
   "cell_type": "markdown",
   "id": "8cc1a2a2",
   "metadata": {},
   "source": [
    "# read from complete data"
   ]
  },
  {
   "cell_type": "code",
   "execution_count": 15,
   "id": "8082c6d3",
   "metadata": {},
   "outputs": [
    {
     "data": {
      "application/vnd.microsoft.datawrangler.viewer.v0+json": {
       "columns": [
        {
         "name": "index",
         "rawType": "object",
         "type": "string"
        },
        {
         "name": "AAA",
         "rawType": "float64",
         "type": "float"
        },
        {
         "name": "AA",
         "rawType": "float64",
         "type": "float"
        },
        {
         "name": "A",
         "rawType": "float64",
         "type": "float"
        },
        {
         "name": "BBB",
         "rawType": "float64",
         "type": "float"
        },
        {
         "name": "BB",
         "rawType": "float64",
         "type": "float"
        },
        {
         "name": "B",
         "rawType": "float64",
         "type": "float"
        },
        {
         "name": "D",
         "rawType": "float64",
         "type": "float"
        }
       ],
       "conversionMethod": "pd.DataFrame",
       "ref": "929156ae-ae90-4e14-a1d0-8fbefc40596e",
       "rows": [
        [
         "AAA",
         "0.9962",
         "0.0038",
         "0.0",
         "0.0",
         "0.0",
         "0.0",
         "0.0"
        ],
        [
         "AA",
         "0.0182",
         "0.9329",
         "0.0453",
         "0.0024",
         "0.0006",
         "0.0006",
         "0.0"
        ],
        [
         "A",
         "0.0007",
         "0.1427",
         "0.7884",
         "0.0502",
         "0.0044",
         "0.0099",
         "0.0037"
        ],
        [
         "BBB",
         "0.0",
         "0.0029",
         "0.2463",
         "0.6344",
         "0.0403",
         "0.0432",
         "0.0329"
        ],
        [
         "BB",
         "0.0",
         "0.0",
         "0.0267",
         "0.1488",
         "0.4887",
         "0.0649",
         "0.2709"
        ],
        [
         "B",
         "0.0",
         "0.0063",
         "0.0126",
         "0.0314",
         "0.0624",
         "0.481",
         "0.4063"
        ],
        [
         "D",
         "0.0",
         "0.0",
         "0.0",
         "0.0",
         "0.0",
         "0.0",
         "1.0"
        ]
       ],
       "shape": {
        "columns": 7,
        "rows": 7
       }
      },
      "text/html": [
       "<div>\n",
       "<style scoped>\n",
       "    .dataframe tbody tr th:only-of-type {\n",
       "        vertical-align: middle;\n",
       "    }\n",
       "\n",
       "    .dataframe tbody tr th {\n",
       "        vertical-align: top;\n",
       "    }\n",
       "\n",
       "    .dataframe thead th {\n",
       "        text-align: right;\n",
       "    }\n",
       "</style>\n",
       "<table border=\"1\" class=\"dataframe\">\n",
       "  <thead>\n",
       "    <tr style=\"text-align: right;\">\n",
       "      <th></th>\n",
       "      <th>AAA</th>\n",
       "      <th>AA</th>\n",
       "      <th>A</th>\n",
       "      <th>BBB</th>\n",
       "      <th>BB</th>\n",
       "      <th>B</th>\n",
       "      <th>D</th>\n",
       "    </tr>\n",
       "  </thead>\n",
       "  <tbody>\n",
       "    <tr>\n",
       "      <th>AAA</th>\n",
       "      <td>0.9962</td>\n",
       "      <td>0.0038</td>\n",
       "      <td>0.0000</td>\n",
       "      <td>0.0000</td>\n",
       "      <td>0.0000</td>\n",
       "      <td>0.0000</td>\n",
       "      <td>0.0000</td>\n",
       "    </tr>\n",
       "    <tr>\n",
       "      <th>AA</th>\n",
       "      <td>0.0182</td>\n",
       "      <td>0.9329</td>\n",
       "      <td>0.0453</td>\n",
       "      <td>0.0024</td>\n",
       "      <td>0.0006</td>\n",
       "      <td>0.0006</td>\n",
       "      <td>0.0000</td>\n",
       "    </tr>\n",
       "    <tr>\n",
       "      <th>A</th>\n",
       "      <td>0.0007</td>\n",
       "      <td>0.1427</td>\n",
       "      <td>0.7884</td>\n",
       "      <td>0.0502</td>\n",
       "      <td>0.0044</td>\n",
       "      <td>0.0099</td>\n",
       "      <td>0.0037</td>\n",
       "    </tr>\n",
       "    <tr>\n",
       "      <th>BBB</th>\n",
       "      <td>0.0000</td>\n",
       "      <td>0.0029</td>\n",
       "      <td>0.2463</td>\n",
       "      <td>0.6344</td>\n",
       "      <td>0.0403</td>\n",
       "      <td>0.0432</td>\n",
       "      <td>0.0329</td>\n",
       "    </tr>\n",
       "    <tr>\n",
       "      <th>BB</th>\n",
       "      <td>0.0000</td>\n",
       "      <td>0.0000</td>\n",
       "      <td>0.0267</td>\n",
       "      <td>0.1488</td>\n",
       "      <td>0.4887</td>\n",
       "      <td>0.0649</td>\n",
       "      <td>0.2709</td>\n",
       "    </tr>\n",
       "    <tr>\n",
       "      <th>B</th>\n",
       "      <td>0.0000</td>\n",
       "      <td>0.0063</td>\n",
       "      <td>0.0126</td>\n",
       "      <td>0.0314</td>\n",
       "      <td>0.0624</td>\n",
       "      <td>0.4810</td>\n",
       "      <td>0.4063</td>\n",
       "    </tr>\n",
       "    <tr>\n",
       "      <th>D</th>\n",
       "      <td>0.0000</td>\n",
       "      <td>0.0000</td>\n",
       "      <td>0.0000</td>\n",
       "      <td>0.0000</td>\n",
       "      <td>0.0000</td>\n",
       "      <td>0.0000</td>\n",
       "      <td>1.0000</td>\n",
       "    </tr>\n",
       "  </tbody>\n",
       "</table>\n",
       "</div>"
      ],
      "text/plain": [
       "        AAA      AA       A     BBB      BB       B       D\n",
       "AAA  0.9962  0.0038  0.0000  0.0000  0.0000  0.0000  0.0000\n",
       "AA   0.0182  0.9329  0.0453  0.0024  0.0006  0.0006  0.0000\n",
       "A    0.0007  0.1427  0.7884  0.0502  0.0044  0.0099  0.0037\n",
       "BBB  0.0000  0.0029  0.2463  0.6344  0.0403  0.0432  0.0329\n",
       "BB   0.0000  0.0000  0.0267  0.1488  0.4887  0.0649  0.2709\n",
       "B    0.0000  0.0063  0.0126  0.0314  0.0624  0.4810  0.4063\n",
       "D    0.0000  0.0000  0.0000  0.0000  0.0000  0.0000  1.0000"
      ]
     },
     "execution_count": 15,
     "metadata": {},
     "output_type": "execute_result"
    }
   ],
   "source": [
    "ctm = pd.read_csv('wradj_kis_2024_ctm.csv', index_col=0)\n",
    "ctm"
   ]
  },
  {
   "cell_type": "code",
   "execution_count": 20,
   "id": "44973b31",
   "metadata": {},
   "outputs": [
    {
     "name": "stdout",
     "output_type": "stream",
     "text": [
      "100th iteration completed\n",
      "200th iteration completed\n",
      "300th iteration completed\n",
      "400th iteration completed\n",
      "500th iteration completed\n",
      "600th iteration completed\n",
      "700th iteration completed\n",
      "800th iteration completed\n",
      "900th iteration completed\n",
      "1000th iteration completed\n",
      "1100th iteration completed\n",
      "1200th iteration completed\n",
      "1300th iteration completed\n",
      "1400th iteration completed\n",
      "1500th iteration completed\n",
      "1600th iteration completed\n",
      "1700th iteration completed\n",
      "1800th iteration completed\n",
      "1900th iteration completed\n",
      "2000th iteration completed\n",
      "2100th iteration completed\n",
      "2200th iteration completed\n",
      "2300th iteration completed\n",
      "2400th iteration completed\n",
      "2500th iteration completed\n",
      "2600th iteration completed\n",
      "2700th iteration completed\n",
      "2800th iteration completed\n",
      "2900th iteration completed\n",
      "3000th iteration completed\n",
      "3100th iteration completed\n",
      "3200th iteration completed\n",
      "3300th iteration completed\n",
      "3400th iteration completed\n",
      "3500th iteration completed\n",
      "3600th iteration completed\n",
      "3700th iteration completed\n",
      "3800th iteration completed\n",
      "3900th iteration completed\n",
      "4000th iteration completed\n",
      "4100th iteration completed\n",
      "4200th iteration completed\n",
      "4300th iteration completed\n",
      "4400th iteration completed\n",
      "4500th iteration completed\n",
      "4600th iteration completed\n",
      "4700th iteration completed\n",
      "4800th iteration completed\n",
      "4900th iteration completed\n",
      "5000th iteration completed\n",
      "5100th iteration completed\n",
      "5200th iteration completed\n",
      "5300th iteration completed\n",
      "5400th iteration completed\n",
      "5500th iteration completed\n",
      "5600th iteration completed\n",
      "5700th iteration completed\n",
      "5800th iteration completed\n",
      "5900th iteration completed\n",
      "6000th iteration completed\n",
      "6100th iteration completed\n",
      "6200th iteration completed\n",
      "6300th iteration completed\n",
      "6400th iteration completed\n",
      "6500th iteration completed\n",
      "6600th iteration completed\n",
      "6700th iteration completed\n",
      "6800th iteration completed\n",
      "6900th iteration completed\n",
      "7000th iteration completed\n",
      "7100th iteration completed\n",
      "7200th iteration completed\n",
      "7300th iteration completed\n",
      "7400th iteration completed\n",
      "7500th iteration completed\n",
      "7600th iteration completed\n",
      "7700th iteration completed\n",
      "7800th iteration completed\n",
      "7900th iteration completed\n",
      "8000th iteration completed\n",
      "8100th iteration completed\n",
      "8200th iteration completed\n",
      "8300th iteration completed\n",
      "8400th iteration completed\n",
      "8500th iteration completed\n",
      "8600th iteration completed\n",
      "8700th iteration completed\n",
      "8800th iteration completed\n",
      "8900th iteration completed\n",
      "9000th iteration completed\n",
      "9100th iteration completed\n",
      "9200th iteration completed\n",
      "9300th iteration completed\n",
      "9400th iteration completed\n",
      "9500th iteration completed\n",
      "9600th iteration completed\n",
      "9700th iteration completed\n",
      "9800th iteration completed\n",
      "9900th iteration completed\n",
      "10000th iteration completed\n"
     ]
    }
   ],
   "source": [
    "discount_rate = .06\n",
    "years_int = 3\n",
    "principal = 10000\n",
    "coupon = .07\n",
    "interest = principal * coupon\n",
    "recovery_rate = .4                  # recovery rate of principal in case of default\n",
    "current_rating = 'BBB'\n",
    "# next year default rate if possible ...\n",
    "\n",
    "cash_flow_history = []\n",
    "cash_flow_history_pv = []\n",
    "npv_history = []\n",
    "replications = 10000\n",
    "default_count = 0\n",
    "rating_history = []\n",
    "rating = current_rating\n",
    "\n",
    "for i in range(replications):\n",
    "    \n",
    "    ratings_ith_record = []         # records for ith iteration\n",
    "    cf_ith_record = []              # cash flow records for ith iteration\n",
    "    cf_ith_record_pv = []   \n",
    "    rating = current_rating\n",
    "    \n",
    "    for j in range(years_int):\n",
    "        \n",
    "        # random choice from probability distribution ctm, rating of current rating\n",
    "        \n",
    "        prob = ctm.loc[rating, :].values\n",
    "        rating = np.random.choice(a=ctm.columns, p=prob)\n",
    "        \n",
    "        \n",
    "        if rating == 'D':\n",
    "            default_count += 1\n",
    "            ratings_ith_record.append('D')\n",
    "            rating_history.append(ratings_ith_record)\n",
    "            \n",
    "            # if default, append recovered principal to cash flow records\n",
    "            cf_j = principal * recovery_rate\n",
    "            cf_ith_record.append(cf_j)\n",
    "            cf_j_pv = cf_j / ((1 + discount_rate) ** (j+1))\n",
    "            cf_ith_record_pv.append(cf_j_pv)\n",
    "            break\n",
    "        else:\n",
    "            ratings_ith_record.append(rating)\n",
    "            \n",
    "            # if not default, append interest to cash flow records\n",
    "            cf_j = interest\n",
    "            cf_ith_record.append(cf_j)\n",
    "            cf_j_pv = cf_j / ((1 + discount_rate) ** (j+1))\n",
    "            cf_ith_record_pv.append(cf_j_pv)\n",
    "            \n",
    "            if j == years_int - 1:\n",
    "                # if last year, append principal to cash flow records\n",
    "                cf_j = principal\n",
    "                cf_ith_record.append(cf_j)\n",
    "                cf_j_pv = cf_j / ((1 + discount_rate) ** (j+1))\n",
    "                cf_ith_record_pv.append(cf_j_pv)\n",
    "    \n",
    "    \n",
    "    rating_history.append(ratings_ith_record)\n",
    "    cash_flow_history.append(cf_ith_record)\n",
    "    cash_flow_history_pv.append(cf_ith_record_pv)\n",
    "    npv_history.append(sum(cf_ith_record_pv))\n",
    "    \n",
    "    if (i+1)%100 == 0:\n",
    "        print(f\"{i+1}th iteration completed\")\n",
    "    "
   ]
  },
  {
   "cell_type": "code",
   "execution_count": 21,
   "id": "d737c2dd",
   "metadata": {},
   "outputs": [
    {
     "data": {
      "text/plain": [
       "np.float64(9492.821923467021)"
      ]
     },
     "execution_count": 21,
     "metadata": {},
     "output_type": "execute_result"
    }
   ],
   "source": [
    "pd.Series(npv_history).mean()"
   ]
  },
  {
   "cell_type": "code",
   "execution_count": 22,
   "id": "b3cc525a",
   "metadata": {},
   "outputs": [
    {
     "data": {
      "text/plain": [
       "<seaborn.axisgrid.FacetGrid at 0x1df7f853e60>"
      ]
     },
     "execution_count": 22,
     "metadata": {},
     "output_type": "execute_result"
    },
    {
     "data": {
      "image/png": "[encoded data removed]",
      "text/plain": [
       "<Figure size 500x500 with 1 Axes>"
      ]
     },
     "metadata": {},
     "output_type": "display_data"
    }
   ],
   "source": [
    "sns.displot(npv_history,bins=20)"
   ]
  }
 ],
 "metadata": {
  "kernelspec": {
   "display_name": ".venv",
   "language": "python",
   "name": "python3"
  },
  "language_info": {
   "codemirror_mode": {
    "name": "ipython",
    "version": 3
   },
   "file_extension": ".py",
   "mimetype": "text/x-python",
   "name": "python",
   "nbconvert_exporter": "python",
   "pygments_lexer": "ipython3",
   "version": "3.12.1"
  }
 },
 "nbformat": 4,
 "nbformat_minor": 5
}
